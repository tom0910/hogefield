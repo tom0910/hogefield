{
 "cells": [
  {
   "cell_type": "code",
   "execution_count": 3,
   "id": "e3ab3445-6a16-4ed8-a763-b6da688b533e",
   "metadata": {},
   "outputs": [
    {
     "name": "stdout",
     "output_type": "stream",
     "text": [
      "The autoreload extension is already loaded. To reload it, use:\n",
      "  %reload_ext autoreload\n"
     ]
    }
   ],
   "source": [
    "# %autoreload 1 only needs to be run once after each kernel start\n",
    "%load_ext autoreload\n",
    "%autoreload 2\n",
    "# %aimport MelSpectrogramConfig, AudioSample   \n"
   ]
  },
  {
   "cell_type": "code",
   "execution_count": 2,
   "id": "d9c430c5-8a55-4575-91b8-5803da140c9e",
   "metadata": {},
   "outputs": [],
   "source": [
    "%reset -f"
   ]
  },
  {
   "cell_type": "code",
   "execution_count": 4,
   "id": "c892271f-05f1-43d7-9e24-173b9a55d741",
   "metadata": {
    "editable": true,
    "slideshow": {
     "slide_type": ""
    },
    "tags": []
   },
   "outputs": [
    {
     "data": {
      "application/vnd.jupyter.widget-view+json": {
       "model_id": "39f065b4b5c048f987661c4df942a037",
       "version_major": 2,
       "version_minor": 0
      },
      "text/plain": [
       "HBox(children=(VBox(children=(Dropdown(description='Directory:', index=15, layout=Layout(width='200px'), optio…"
      ]
     },
     "metadata": {},
     "output_type": "display_data"
    },
    {
     "data": {
      "application/vnd.jupyter.widget-view+json": {
       "model_id": "1a7055a6cb4349599481106ce7c38da8",
       "version_major": 2,
       "version_minor": 0
      },
      "text/plain": [
       "HBox(children=(VBox(children=(Output(),), layout=Layout(align_items='flex-start', justify_content='flex-start'…"
      ]
     },
     "metadata": {},
     "output_type": "display_data"
    }
   ],
   "source": [
    "# Imports\n",
    "import os\n",
    "import numpy as np\n",
    "import matplotlib.pyplot as plt\n",
    "import torch\n",
    "import torchaudio\n",
    "from torchaudio.transforms import AmplitudeToDB, GriffinLim\n",
    "import torchaudio.transforms as T\n",
    "from IPython.display import Audio, display\n",
    "import ipywidgets as widgets\n",
    "from ipywidgets import GridspecLayout\n",
    "from AudioSample import AudioSample\n",
    "from MelSpectrogramConfig import MelSpectrogramConfig\n",
    "import config as C\n",
    "from config import BASE_PATH, DEFAULT_DIRECTORY, DEFAULT_FILE_INDEX, DEFAULT_THRESHOLD\n",
    "from widgets_setup import create_widgets\n",
    "from display_functions import display_audio_in_widget, plot_audio_waveform_in_widget, plot_mel_spectrogram_in_widget, plot_spikes_in_widget\n",
    "from widget_sync_utils import set_audio_sample_from_widget_values, set_mel_config_from_widget_values\n",
    "from Spikes import Spikes\n",
    "\n",
    "# Initialize AudioSample and MelSpectrogramConfig\n",
    "audio_sample = AudioSample(BASE_PATH, DEFAULT_DIRECTORY, DEFAULT_FILE_INDEX)\n",
    "mel_config = MelSpectrogramConfig(audio_sample, n_fft=C.DEFAULT_N_FFT, hop_length=C.DEFAULT_HOP_LENGTH, n_mels=C.DEFAULT_N_MELS, f_min=C.DEFAULT_F_MIN, f_max=C.DEFAULT_F_MAX, power=C.DEFAULT_POWER, filter_type=\"custom\", toggle_mel_filter=\"spktgrm\")\n",
    "spikes_data = Spikes(threshold=C.DEFAULT_THRESHOLD)\n",
    "\n",
    "# Initialize widgets\n",
    "(\n",
    "    directory_dropdown, \n",
    "    file_slider, \n",
    "    n_fft_input, \n",
    "    hop_length_slider, \n",
    "    n_mels_slider, \n",
    "    f_min_slider, \n",
    "    f_max_slider, \n",
    "    power_toggle, \n",
    "    threshold_slider, \n",
    "    spike_plot_radio, \n",
    "    spike_periode_slider,\n",
    "    spike_period_slider_combo,\n",
    "    spk_freq_label,\n",
    "    channel_slider,\n",
    "    filter_choice_radio,\n",
    "    mel_plot_radio\n",
    ") = create_widgets(audio_sample, mel_config, spikes_data)\n",
    "\n",
    "# Output widgets\n",
    "output_play = widgets.Output(layout=widgets.Layout())\n",
    "output_audio_signal = widgets.Output(layout=widgets.Layout())\n",
    "output_melspecrogram = widgets.Output(layout=widgets.Layout())\n",
    "output_spikes = widgets.Output(layout=widgets.Layout())\n",
    "\n",
    "# this func. used for test purpose:\n",
    "def beep_sound(message):\n",
    "    print(f'Beep function called {message}')  # Confirm it's called\n",
    "    frequency = 440  # Hz\n",
    "    duration = 0.2   # seconds\n",
    "    sample_rate = 44100\n",
    "    t = np.linspace(0, duration, int(sample_rate * duration), False)\n",
    "    wave = 0.5 * np.sin(2 * np.pi * frequency * t)\n",
    "    display(Audio(wave, rate=sample_rate, autoplay=True))\n",
    "\n",
    "# Observers for widget changes\n",
    "def update_plot(change):\n",
    "    set_audio_sample_from_widget_values(audio_sample, directory_dropdown, file_slider)\n",
    "    display_audio_in_widget(audio_sample, output_play)\n",
    "    plot_audio_waveform_in_widget(audio_sample, output_audio_signal)\n",
    "    update_plot_mel(None)\n",
    "\n",
    "def update_plot_mel(change):\n",
    "    set_mel_config_from_widget_values(mel_config, n_fft_input, hop_length_slider, n_mels_slider, f_min_slider, f_max_slider, power_toggle, filter_choice_radio, mel_plot_radio)\n",
    "    plot_mel_spectrogram_in_widget(audio_sample, mel_config, output_melspecrogram)\n",
    "    update_plot_spike(None)\n",
    "    channel_slider.max=mel_config.n_mels\n",
    "    \n",
    "def update_plot_spike(change):\n",
    "    spikes_data.threshold = threshold_slider.value\n",
    "    plot_radio = spike_plot_radio.value\n",
    "    plot_spikes_in_widget(audio_sample, mel_config, spikes_data, plot_radio, output_spikes)\n",
    "\n",
    "\n",
    "def check_filter_type(change):\n",
    "    \"\"\"Set widget values and disable state based on filter choice.\"\"\"\n",
    "    if filter_choice_radio.value == \"custom\":\n",
    "        # Set custom filter parameters\n",
    "        f_min_slider.value = 275\n",
    "        f_max_slider.value = 7625\n",
    "        n_mels_slider.value = 15\n",
    "        # Disable sliders for custom filter\n",
    "        f_min_slider.disabled = True\n",
    "        f_max_slider.disabled = True\n",
    "        n_mels_slider.disabled = True\n",
    "    else:\n",
    "        # Enable sliders for standard filter\n",
    "        f_min_slider.disabled = False\n",
    "        f_max_slider.disabled = False\n",
    "        n_mels_slider.disabled = False\n",
    "\n",
    "    # Trigger the update for the spectrogram plot\n",
    "    update_plot_mel(change)\n",
    "    \n",
    "\n",
    "# Attach observers\n",
    "directory_dropdown.observe(update_plot, names='value')\n",
    "file_slider.observe(update_plot, names='value')\n",
    "n_fft_input.observe(update_plot_mel, names='value')\n",
    "hop_length_slider.observe(update_plot_mel, names='value')\n",
    "n_mels_slider.observe(update_plot_mel, names='value')\n",
    "f_min_slider.observe(update_plot_mel, names='value')\n",
    "f_max_slider.observe(update_plot_mel, names='value')\n",
    "power_toggle.observe(update_plot_mel, names='value')\n",
    "threshold_slider.observe(update_plot_spike, names='value')\n",
    "spike_plot_radio.observe(update_plot_spike, names='value')\n",
    "filter_choice_radio.observe(check_filter_type, names='value')\n",
    "mel_plot_radio.observe(update_plot_mel, names='value')\n",
    "\n",
    "# Initial display setup\n",
    "update_plot(None)  # Trigger initial display updates\n",
    "update_plot_mel(None)\n",
    "update_plot_spike(None)\n",
    "# update_spike_info(None)\n",
    "\n",
    "# # Layout and display\n",
    "# Layout definiálása a középre igazításhoz\n",
    "centered_layout = widgets.Layout(align_items='center', justify_content='center')\n",
    "align_top_layout = widgets.Layout(align_items='flex-start', justify_content='flex-start')\n",
    "\n",
    "# widget groups\n",
    "file_controls = widgets.VBox([directory_dropdown, file_slider, output_play], layout=centered_layout)\n",
    "mel_spectrogram_controls = widgets.VBox([hop_length_slider, n_mels_slider, f_min_slider, f_max_slider, n_fft_input, power_toggle, filter_choice_radio, mel_plot_radio], layout=centered_layout)\n",
    "spike_control = widgets.VBox([threshold_slider, spike_plot_radio, spike_period_slider_combo], layout=centered_layout)\n",
    "dummy_widget = widgets.Box(layout=widgets.Layout(width=file_controls.layout.width, height=file_controls.layout.height))\n",
    "\n",
    "# main row arrangment with HBox creating horizonatl groups\n",
    "control_layout = widgets.HBox([file_controls, mel_spectrogram_controls, spike_control], layout=widgets.Layout(justify_content='space-around'))\n",
    "\n",
    "# widget groups\n",
    "audio_output = widgets.VBox([output_audio_signal], layout=align_top_layout)\n",
    "mel_spectrogram_output = widgets.VBox([output_melspecrogram], layout=align_top_layout)\n",
    "spike_output = widgets.VBox([output_spikes], layout=align_top_layout)\n",
    "\n",
    "# main row arrangment with HBox creating horizonatl groups\n",
    "figure_layout = widgets.HBox([audio_output, mel_spectrogram_output,spike_output], layout=widgets.Layout(justify_content='space-around'))\n",
    "\n",
    "# Megjelenítés\n",
    "display(control_layout)\n",
    "display(figure_layout)"
   ]
  },
  {
   "cell_type": "code",
   "execution_count": null,
   "id": "18d632b6-6873-4831-a841-dbdf65932c77",
   "metadata": {
    "editable": true,
    "slideshow": {
     "slide_type": ""
    },
    "tags": []
   },
   "outputs": [],
   "source": []
  },
  {
   "cell_type": "code",
   "execution_count": 6,
   "id": "41a1b13c-8b3d-4624-9a77-81fa87ba1f29",
   "metadata": {},
   "outputs": [
    {
     "data": {
      "application/vnd.jupyter.widget-view+json": {
       "model_id": "42677d21f0fe46ebae0a2eb0e56567b1",
       "version_major": 2,
       "version_minor": 0
      },
      "text/plain": [
       "HBox(children=(VBox(children=(IntSlider(value=0, description='a'), IntSlider(value=0, description='b'), IntSli…"
      ]
     },
     "execution_count": 6,
     "metadata": {},
     "output_type": "execute_result"
    }
   ],
   "source": [
    "a = widgets.IntSlider(description='a')\n",
    "b = widgets.IntSlider(description='b')\n",
    "c = widgets.IntSlider(description='c')\n",
    "def f(a, b, c):\n",
    "    print('{}*{}*{}={}'.format(a, b, c, a*b*c))\n",
    "\n",
    "out = widgets.interactive_output(f, {'a': a, 'b': b, 'c': c})\n",
    "\n",
    "widgets.HBox([widgets.VBox([a, b, c]), out])"
   ]
  },
  {
   "cell_type": "code",
   "execution_count": null,
   "id": "b1304709-4ae2-4844-ac36-dc10f1ecbe28",
   "metadata": {},
   "outputs": [],
   "source": []
  }
 ],
 "metadata": {
  "kernelspec": {
   "display_name": "Python 3 (ipykernel)",
   "language": "python",
   "name": "python3"
  },
  "language_info": {
   "codemirror_mode": {
    "name": "ipython",
    "version": 3
   },
   "file_extension": ".py",
   "mimetype": "text/x-python",
   "name": "python",
   "nbconvert_exporter": "python",
   "pygments_lexer": "ipython3",
   "version": "3.10.12"
  }
 },
 "nbformat": 4,
 "nbformat_minor": 5
}
